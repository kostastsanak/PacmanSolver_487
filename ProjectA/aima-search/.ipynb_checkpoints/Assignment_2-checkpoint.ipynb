{
 "cells": [
  {
   "cell_type": "markdown",
   "metadata": {},
   "source": [
    "# SUDOKU\n",
    "\n",
    "Student Number =\n",
    "\n",
    "Name ="
   ]
  },
  {
   "cell_type": "code",
   "execution_count": 3,
   "metadata": {},
   "outputs": [],
   "source": [
    "from csp import *\n",
    "from search import *\n",
    "%matplotlib inline\n",
    "# Hide warnings in the matplotlib sections\n",
    "import warnings\n",
    "warnings.filterwarnings(\"ignore\")\n",
    "from sudokuParam import *\n",
    "from sudoku_puzzles import *\n",
    "# psource(Sudoku)"
   ]
  },
  {
   "cell_type": "code",
   "execution_count": 4,
   "metadata": {},
   "outputs": [],
   "source": [
    "# # 1. Set up the puzzle.\n",
    "# Examples\n",
    "#puzzle = Sudoku('..3.2.6..9..3.5..1..18.64....81.29..7.......8..67.82....26.95..8..2.3..9..5.1.3..') # easy (Figure 6.4.a)\n",
    "# puzzle = Sudoku('483921657967345821251876493548132976729564138136798245372689514814253769695417382') # solved (Figure 6.4.b)\n",
    "# puzzle = Sudoku('4173698.5.3..........7......2.....6.....8.4......1.......6.3.7.5..2.....1.4......') # harder (csp.py)\n",
    "# puzzle = Sudoku('1....7.9..3..2...8..96..5....53..9...1..8...26....4...3......1..4......7..7...3..') # hardest (AI Escargot)\n",
    "# puzzle =  Sudoku('4.....8.5.3..........7......2.....6.....5.4......1.......6.3.7.5..2.....1.9......')\n",
    "# print(\"Start:\")\n",
    "# puzzle.display(puzzle.infer_assignment())"
   ]
  },
  {
   "cell_type": "code",
   "execution_count": 5,
   "metadata": {},
   "outputs": [],
   "source": [
    "# 2a. Solve the puzzle using search algorithms\n",
    "# result = depth_first_graph_search(puzzle)                    <- search algorithm with default parameters\n",
    "#AC3(puzzle)                                         \n",
    "# AC3b(puzzle)                                        \n",
    "# AC4(puzzle)                                         \n",
    "#result = backtracking_search(puzzle)                 \n",
    "# result = backtracking_search(puzzle,mrv,unordered_domain_values, forward_checking)\n",
    "#min_conflicts(puzzle)                               \n",
    "\n",
    "# 3a. Print the results.  \n",
    "# print\n",
    "# if puzzle.goal_test(puzzle.infer_assignment()):\n",
    "#     print(\"Solution:\")\n",
    "#     puzzle.display(puzzle.infer_assignment())\n",
    "# else:\n",
    "#     print(\"Failed - domains: \" + str(puzzle.curr_domains))\n",
    "#     puzzle.display(result)\n"
   ]
  },
  {
   "cell_type": "code",
   "execution_count": 14,
   "metadata": {},
   "outputs": [
    {
     "name": "stdout",
     "output_type": "stream",
     "text": [
      "07 11 09 16 | 14 03 01 13 | 04 05 02 15 | 12 08 06 10\n",
      "05 13 01 14 | 04 15 06 08 | 12 10 07 09 | 02 16 11 03\n",
      "15 10 03 08 | 12 02 09 11 | 13 16 01 06 | 14 07 05 04\n",
      "04 02 12 06 | 05 07 16 10 | 03 08 14 11 | 01 15 13 09\n",
      "------+-------+------\n",
      "11 12 13 10 | 15 05 02 06 | 16 04 03 01 | 08 09 14 07\n",
      "03 09 16 15 | 01 12 11 14 | 05 02 08 07 | 10 06 04 13\n",
      "01 05 07 04 | 16 08 10 03 | 09 13 06 14 | 11 12 02 15\n",
      "08 14 06 02 | 09 13 07 04 | 15 11 12 10 | 03 05 01 16\n",
      "------+-------+------\n",
      "10 08 14 12 | 03 11 05 16 | 06 15 04 02 | 07 13 09 01\n",
      "02 07 05 01 | 10 06 08 09 | 11 14 13 16 | 04 03 15 12\n",
      "06 16 15 11 | 13 04 12 07 | 01 09 10 03 | 05 14 08 02\n",
      "13 03 04 09 | 02 01 14 15 | 07 12 05 08 | 16 11 10 06\n",
      "------+-------+------\n",
      "12 15 11 13 | 06 14 03 02 | 08 01 16 04 | 09 10 07 05\n",
      "09 04 02 07 | 08 10 13 12 | 14 03 15 05 | 06 01 16 11\n",
      "16 01 08 03 | 07 09 04 05 | 10 06 11 13 | 15 02 12 14\n",
      "14 06 10 05 | 11 16 15 01 | 02 07 09 12 | 13 04 03 08\n"
     ]
    },
    {
     "name": "stderr",
     "output_type": "stream",
     "text": [
      "IOPub data rate exceeded.\n",
      "The notebook server will temporarily stop sending output\n",
      "to the client in order to avoid crashing it.\n",
      "To change this limit, set the config variable\n",
      "`--NotebookApp.iopub_data_rate_limit`.\n",
      "\n",
      "Current values:\n",
      "NotebookApp.iopub_data_rate_limit=1000000.0 (bytes/sec)\n",
      "NotebookApp.rate_limit_window=3.0 (secs)\n",
      "\n"
     ]
    },
    {
     "ename": "AttributeError",
     "evalue": "'tuple' object has no attribute 'get'",
     "output_type": "error",
     "traceback": [
      "\u001b[1;31m---------------------------------------------------------------------------\u001b[0m",
      "\u001b[1;31mAttributeError\u001b[0m                            Traceback (most recent call last)",
      "\u001b[1;32m<ipython-input-14-c59e4b2e2a7a>\u001b[0m in \u001b[0;36m<module>\u001b[1;34m\u001b[0m\n\u001b[0;32m     21\u001b[0m \u001b[1;32melse\u001b[0m\u001b[1;33m:\u001b[0m\u001b[1;33m\u001b[0m\u001b[1;33m\u001b[0m\u001b[0m\n\u001b[0;32m     22\u001b[0m     \u001b[0mprint\u001b[0m\u001b[1;33m(\u001b[0m\u001b[1;34m\"Failed - domains: \"\u001b[0m \u001b[1;33m+\u001b[0m \u001b[0mstr\u001b[0m\u001b[1;33m(\u001b[0m\u001b[0mpuzzle\u001b[0m\u001b[1;33m.\u001b[0m\u001b[0mcurr_domains\u001b[0m\u001b[1;33m)\u001b[0m\u001b[1;33m)\u001b[0m\u001b[1;33m\u001b[0m\u001b[1;33m\u001b[0m\u001b[0m\n\u001b[1;32m---> 23\u001b[1;33m     \u001b[0mpuzzle\u001b[0m\u001b[1;33m.\u001b[0m\u001b[0mdisplay\u001b[0m\u001b[1;33m(\u001b[0m\u001b[0mresult\u001b[0m\u001b[1;33m)\u001b[0m\u001b[1;33m\u001b[0m\u001b[1;33m\u001b[0m\u001b[0m\n\u001b[0m\u001b[0;32m     24\u001b[0m \u001b[1;33m\u001b[0m\u001b[0m\n\u001b[0;32m     25\u001b[0m \u001b[1;31m# Puzzle.infer_assignment() will have solution IF search algorithm converged to a solution.\u001b[0m\u001b[1;33m\u001b[0m\u001b[1;33m\u001b[0m\u001b[1;33m\u001b[0m\u001b[0m\n",
      "\u001b[1;32m~\\Desktop\\Coding\\487\\aima-search\\sudokuParam.py\u001b[0m in \u001b[0;36mdisplay\u001b[1;34m(self, assignment)\u001b[0m\n\u001b[0;32m    108\u001b[0m             map(' | '.join, list(zip(lines1, lines2))))\n\u001b[0;32m    109\u001b[0m \u001b[1;33m\u001b[0m\u001b[0m\n\u001b[1;32m--> 110\u001b[1;33m         print('\\n------+-------+------\\n'.join(\n\u001b[0m\u001b[0;32m    111\u001b[0m             '\\n'.join(reduce(\n\u001b[0;32m    112\u001b[0m                 abut, map(show_box, brow))) for brow in self.bgrid))\n",
      "\u001b[1;32m~\\Desktop\\Coding\\487\\aima-search\\sudokuParam.py\u001b[0m in \u001b[0;36m<genexpr>\u001b[1;34m(.0)\u001b[0m\n\u001b[0;32m    109\u001b[0m \u001b[1;33m\u001b[0m\u001b[0m\n\u001b[0;32m    110\u001b[0m         print('\\n------+-------+------\\n'.join(\n\u001b[1;32m--> 111\u001b[1;33m             '\\n'.join(reduce(\n\u001b[0m\u001b[0;32m    112\u001b[0m                 abut, map(show_box, brow))) for brow in self.bgrid))\n",
      "\u001b[1;32m~\\Desktop\\Coding\\487\\aima-search\\sudokuParam.py\u001b[0m in \u001b[0;36mshow_box\u001b[1;34m(box)\u001b[0m\n\u001b[0;32m    101\u001b[0m \u001b[1;33m\u001b[0m\u001b[0m\n\u001b[0;32m    102\u001b[0m     \u001b[1;32mdef\u001b[0m \u001b[0mdisplay\u001b[0m\u001b[1;33m(\u001b[0m\u001b[0mself\u001b[0m\u001b[1;33m,\u001b[0m \u001b[0massignment\u001b[0m\u001b[1;33m)\u001b[0m\u001b[1;33m:\u001b[0m\u001b[1;33m\u001b[0m\u001b[1;33m\u001b[0m\u001b[0m\n\u001b[1;32m--> 103\u001b[1;33m         \u001b[1;32mdef\u001b[0m \u001b[0mshow_box\u001b[0m\u001b[1;33m(\u001b[0m\u001b[0mbox\u001b[0m\u001b[1;33m)\u001b[0m\u001b[1;33m:\u001b[0m \u001b[1;32mreturn\u001b[0m \u001b[1;33m[\u001b[0m\u001b[1;34m' '\u001b[0m\u001b[1;33m.\u001b[0m\u001b[0mjoin\u001b[0m\u001b[1;33m(\u001b[0m\u001b[0mmap\u001b[0m\u001b[1;33m(\u001b[0m\u001b[0mshow_cell\u001b[0m\u001b[1;33m,\u001b[0m \u001b[0mrow\u001b[0m\u001b[1;33m)\u001b[0m\u001b[1;33m)\u001b[0m \u001b[1;32mfor\u001b[0m \u001b[0mrow\u001b[0m \u001b[1;32min\u001b[0m \u001b[0mbox\u001b[0m\u001b[1;33m]\u001b[0m\u001b[1;33m\u001b[0m\u001b[1;33m\u001b[0m\u001b[0m\n\u001b[0m\u001b[0;32m    104\u001b[0m \u001b[1;33m\u001b[0m\u001b[0m\n\u001b[0;32m    105\u001b[0m         \u001b[1;32mdef\u001b[0m \u001b[0mshow_cell\u001b[0m\u001b[1;33m(\u001b[0m\u001b[0mcell\u001b[0m\u001b[1;33m)\u001b[0m\u001b[1;33m:\u001b[0m \u001b[1;32mreturn\u001b[0m \u001b[0mstr\u001b[0m\u001b[1;33m(\u001b[0m\u001b[0massignment\u001b[0m\u001b[1;33m.\u001b[0m\u001b[0mget\u001b[0m\u001b[1;33m(\u001b[0m\u001b[0mcell\u001b[0m\u001b[1;33m,\u001b[0m \u001b[1;34m'.'\u001b[0m\u001b[1;33m)\u001b[0m\u001b[1;33m)\u001b[0m\u001b[1;33m\u001b[0m\u001b[1;33m\u001b[0m\u001b[0m\n",
      "\u001b[1;32m~\\Desktop\\Coding\\487\\aima-search\\sudokuParam.py\u001b[0m in \u001b[0;36m<listcomp>\u001b[1;34m(.0)\u001b[0m\n\u001b[0;32m    101\u001b[0m \u001b[1;33m\u001b[0m\u001b[0m\n\u001b[0;32m    102\u001b[0m     \u001b[1;32mdef\u001b[0m \u001b[0mdisplay\u001b[0m\u001b[1;33m(\u001b[0m\u001b[0mself\u001b[0m\u001b[1;33m,\u001b[0m \u001b[0massignment\u001b[0m\u001b[1;33m)\u001b[0m\u001b[1;33m:\u001b[0m\u001b[1;33m\u001b[0m\u001b[1;33m\u001b[0m\u001b[0m\n\u001b[1;32m--> 103\u001b[1;33m         \u001b[1;32mdef\u001b[0m \u001b[0mshow_box\u001b[0m\u001b[1;33m(\u001b[0m\u001b[0mbox\u001b[0m\u001b[1;33m)\u001b[0m\u001b[1;33m:\u001b[0m \u001b[1;32mreturn\u001b[0m \u001b[1;33m[\u001b[0m\u001b[1;34m' '\u001b[0m\u001b[1;33m.\u001b[0m\u001b[0mjoin\u001b[0m\u001b[1;33m(\u001b[0m\u001b[0mmap\u001b[0m\u001b[1;33m(\u001b[0m\u001b[0mshow_cell\u001b[0m\u001b[1;33m,\u001b[0m \u001b[0mrow\u001b[0m\u001b[1;33m)\u001b[0m\u001b[1;33m)\u001b[0m \u001b[1;32mfor\u001b[0m \u001b[0mrow\u001b[0m \u001b[1;32min\u001b[0m \u001b[0mbox\u001b[0m\u001b[1;33m]\u001b[0m\u001b[1;33m\u001b[0m\u001b[1;33m\u001b[0m\u001b[0m\n\u001b[0m\u001b[0;32m    104\u001b[0m \u001b[1;33m\u001b[0m\u001b[0m\n\u001b[0;32m    105\u001b[0m         \u001b[1;32mdef\u001b[0m \u001b[0mshow_cell\u001b[0m\u001b[1;33m(\u001b[0m\u001b[0mcell\u001b[0m\u001b[1;33m)\u001b[0m\u001b[1;33m:\u001b[0m \u001b[1;32mreturn\u001b[0m \u001b[0mstr\u001b[0m\u001b[1;33m(\u001b[0m\u001b[0massignment\u001b[0m\u001b[1;33m.\u001b[0m\u001b[0mget\u001b[0m\u001b[1;33m(\u001b[0m\u001b[0mcell\u001b[0m\u001b[1;33m,\u001b[0m \u001b[1;34m'.'\u001b[0m\u001b[1;33m)\u001b[0m\u001b[1;33m)\u001b[0m\u001b[1;33m\u001b[0m\u001b[1;33m\u001b[0m\u001b[0m\n",
      "\u001b[1;32m~\\Desktop\\Coding\\487\\aima-search\\sudokuParam.py\u001b[0m in \u001b[0;36mshow_cell\u001b[1;34m(cell)\u001b[0m\n\u001b[0;32m    103\u001b[0m         \u001b[1;32mdef\u001b[0m \u001b[0mshow_box\u001b[0m\u001b[1;33m(\u001b[0m\u001b[0mbox\u001b[0m\u001b[1;33m)\u001b[0m\u001b[1;33m:\u001b[0m \u001b[1;32mreturn\u001b[0m \u001b[1;33m[\u001b[0m\u001b[1;34m' '\u001b[0m\u001b[1;33m.\u001b[0m\u001b[0mjoin\u001b[0m\u001b[1;33m(\u001b[0m\u001b[0mmap\u001b[0m\u001b[1;33m(\u001b[0m\u001b[0mshow_cell\u001b[0m\u001b[1;33m,\u001b[0m \u001b[0mrow\u001b[0m\u001b[1;33m)\u001b[0m\u001b[1;33m)\u001b[0m \u001b[1;32mfor\u001b[0m \u001b[0mrow\u001b[0m \u001b[1;32min\u001b[0m \u001b[0mbox\u001b[0m\u001b[1;33m]\u001b[0m\u001b[1;33m\u001b[0m\u001b[1;33m\u001b[0m\u001b[0m\n\u001b[0;32m    104\u001b[0m \u001b[1;33m\u001b[0m\u001b[0m\n\u001b[1;32m--> 105\u001b[1;33m         \u001b[1;32mdef\u001b[0m \u001b[0mshow_cell\u001b[0m\u001b[1;33m(\u001b[0m\u001b[0mcell\u001b[0m\u001b[1;33m)\u001b[0m\u001b[1;33m:\u001b[0m \u001b[1;32mreturn\u001b[0m \u001b[0mstr\u001b[0m\u001b[1;33m(\u001b[0m\u001b[0massignment\u001b[0m\u001b[1;33m.\u001b[0m\u001b[0mget\u001b[0m\u001b[1;33m(\u001b[0m\u001b[0mcell\u001b[0m\u001b[1;33m,\u001b[0m \u001b[1;34m'.'\u001b[0m\u001b[1;33m)\u001b[0m\u001b[1;33m)\u001b[0m\u001b[1;33m\u001b[0m\u001b[1;33m\u001b[0m\u001b[0m\n\u001b[0m\u001b[0;32m    106\u001b[0m \u001b[1;33m\u001b[0m\u001b[0m\n\u001b[0;32m    107\u001b[0m         def abut(lines1, lines2): return list(\n",
      "\u001b[1;31mAttributeError\u001b[0m: 'tuple' object has no attribute 'get'"
     ]
    }
   ],
   "source": [
    "# 2b. Solve a puzzle defined in sudoku_puzzles.py.\n",
    "puzzle16x16.display(puzzle16x16.infer_assignment())\n",
    "\"\"\"######################################################################################################################\n",
    "       100x100 too large to display in notebook due to memory..if u want visuals use another environment, eg. PyCharm\n",
    "######################################################################################################################\"\"\"\n",
    "# puzzle100x100.display(puzzle100x100.infer_assignment())\n",
    "####################\n",
    "# puzzle = Sudoku(puzzles[0]) <---- create Sudoku object by calling the string at position 0 of the list\n",
    "# result = depth_first_graph_search(puzzle)\n",
    "# result = backtracking_search(puzzle,mrv,unordered_domain_values, forward_checking)\n",
    "# result = backtracking_search(puzzle)\n",
    "puzzle = puzzle16x16\n",
    "result = backtracking_search(puzzle,mrv,unordered_domain_values, forward_checking)\n",
    "# min_conflicts(puzzle)\n",
    "\n",
    "# 3b. Print the results.  \n",
    "# print\n",
    "if puzzle.goal_test(puzzle.infer_assignment()):\n",
    "    print(\"Solution:\")\n",
    "    puzzle.display(puzzle.infer_assignment())\n",
    "else:\n",
    "    print(\"Failed - domains: \" + str(puzzle.curr_domains))\n",
    "    puzzle.display(result)\n",
    "\n",
    "# Puzzle.infer_assignment() will have solution IF search algorithm converged to a solution. \n",
    "# Result will have the latest inference of the puzzle.\n",
    "# IF depth_first_graph_search or other search algorithms from search.py are used, due to use of different objects\n",
    "# puzzle.display() will not be callable and a simple print will help you visualise the results."
   ]
  },
  {
   "cell_type": "code",
   "execution_count": null,
   "metadata": {},
   "outputs": [],
   "source": [
    "\"\"\"######################################################################################################################\n",
    "     MODIFYING CLASS OF SUDOKU FOR LARGER SIZES. Size is parameterised by value _SIZEA=4 or _SIZEB=10 in sudokuParam.py\n",
    "     classes are duplicated in essence but twitched so without deviating at all from the book source code you\n",
    "     can solve with the same script 9x9, 16x16, 100x100 puzzles\n",
    "######################################################################################################################\"\"\"\n",
    "# psource(SudokuParam)\n",
    "# psource(Sudoku100x100)"
   ]
  },
  {
   "cell_type": "code",
   "execution_count": null,
   "metadata": {},
   "outputs": [],
   "source": [
    "from numpy.random import default_rng\n",
    "choice = 1 #<- how many puzzles\n",
    "rng = default_rng() #<- set random seed to default for repetiveness\n",
    "randomSudokuList = np.sort(rng.choice(len(puzzles), size=(1,choice), replace = False)) #<- uniformely choose unique puzzles\n",
    "randomSudokuList = randomSudokuList[0] # <- unravel list\n",
    "for i in randomSudokuList: # <- iterate lists\n",
    "    puzzle = Sudoku(puzzles[i])\n",
    "    puzzle.display(puzzle.infer_assignment())"
   ]
  },
  {
   "cell_type": "code",
   "execution_count": null,
   "metadata": {},
   "outputs": [],
   "source": [
    "# define method that penalises solution in case of conflicts or empty tiles based on code in csp.py\n",
    "# it works for CPS objects and not for Node objects so will need makeover for algorithms in search.py\n",
    "def evaluateSudoku(puzzle):\n",
    "    tmp = 0\n",
    "    for i in range(len(puzzle.infer_assignment())):\n",
    "        if i in puzzle.infer_assignment():\n",
    "            tmp += puzzle.nconflicts(i, puzzle.infer_assignment()[i],puzzle.infer_assignment())\n",
    "    return tmp*20+(81-len(puzzle.infer_assignment()))*10\n",
    "\n",
    "puzzle = Sudoku(puzzles[1])\n",
    "backtracking_search(puzzle,mrv,unordered_domain_values, forward_checking)\n",
    "puzzle.display(puzzle.infer_assignment())\n",
    "print()\n",
    "print('Solution Penalty Score: ' + str(evaluateSudoku(puzzle)))"
   ]
  },
  {
   "cell_type": "code",
   "execution_count": null,
   "metadata": {},
   "outputs": [],
   "source": [
    "# Write code that iteratively calls a random selections of puzzles and evaluate their solution and their execution time.\n",
    "# experiment with inputs of backtracking_search and min_conflicts methods found in csp.py"
   ]
  }
 ],
 "metadata": {
  "kernelspec": {
   "display_name": "Python 3",
   "language": "python",
   "name": "python3"
  },
  "language_info": {
   "codemirror_mode": {
    "name": "ipython",
    "version": 3
   },
   "file_extension": ".py",
   "mimetype": "text/x-python",
   "name": "python",
   "nbconvert_exporter": "python",
   "pygments_lexer": "ipython3",
   "version": "3.8.8"
  }
 },
 "nbformat": 4,
 "nbformat_minor": 4
}
